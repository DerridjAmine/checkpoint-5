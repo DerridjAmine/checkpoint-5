{
 "cells": [
  {
   "cell_type": "code",
   "execution_count": 1,
   "id": "5acb2ef7",
   "metadata": {},
   "outputs": [],
   "source": [
    "#question 1\n",
    "class point3d:\n",
    "    \n",
    "    def __init__(self,X,Y,Z):\n",
    "        self.X=X\n",
    "        self.Y=Y\n",
    "        self.Z=Z\n"
   ]
  },
  {
   "cell_type": "code",
   "execution_count": 2,
   "id": "43e5cdf6",
   "metadata": {},
   "outputs": [],
   "source": [
    "point3d.X=1\n",
    "point3d.Y=2\n",
    "point3d.Z=3"
   ]
  },
  {
   "cell_type": "code",
   "execution_count": 3,
   "id": "8a5a1df9",
   "metadata": {},
   "outputs": [],
   "source": [
    "mypoint= point3d.X, point3d.Y, point3d.Z"
   ]
  },
  {
   "cell_type": "code",
   "execution_count": 4,
   "id": "76023f38",
   "metadata": {},
   "outputs": [
    {
     "name": "stdout",
     "output_type": "stream",
     "text": [
      "(1, 2, 3)\n"
     ]
    }
   ],
   "source": [
    "print(mypoint)"
   ]
  },
  {
   "cell_type": "code",
   "execution_count": 32,
   "id": "dce27112",
   "metadata": {},
   "outputs": [],
   "source": [
    "#question 2\n",
    "class Rectangle():\n",
    "    def __init__(self, l, w):\n",
    "        self.length = l\n",
    "        self.width  = w\n",
    "\n",
    "    def rectangle_area(self):\n",
    "        return self.length*self.width\n",
    "    \n",
    "    def rectangle_perimeter(self):\n",
    "        return ((self.length+self.width)*2)"
   ]
  },
  {
   "cell_type": "code",
   "execution_count": 33,
   "id": "bb082057",
   "metadata": {},
   "outputs": [],
   "source": [
    "my_rectangle=Rectangle(4, 3)"
   ]
  },
  {
   "cell_type": "code",
   "execution_count": 34,
   "id": "dfc7642e",
   "metadata": {},
   "outputs": [
    {
     "name": "stdout",
     "output_type": "stream",
     "text": [
      "12 14\n"
     ]
    }
   ],
   "source": [
    "print(my_rectangle.rectangle_area(),my_rectangle.rectangle_perimeter())"
   ]
  },
  {
   "cell_type": "code",
   "execution_count": null,
   "id": "17a4885c",
   "metadata": {},
   "outputs": [],
   "source": [
    "#question 3\n",
    "class Circle():\n",
    "    def __init__(self, r):\n",
    "        self.radius = r\n",
    "\n",
    "    def area(self):\n",
    "        return self.radius**2*3.14\n",
    "    \n",
    "    def perimeter(self):\n",
    "        return 2*self.radius*3.14\n",
    "\n",
    "NewCircle = Circle(8)\n",
    "print(NewCircle.area())\n",
    "print(NewCircle.perimeter())"
   ]
  },
  {
   "cell_type": "code",
   "execution_count": 14,
   "id": "8e1c88ba",
   "metadata": {},
   "outputs": [],
   "source": [
    "#question 4 \n",
    "\n",
    "class bank:\n",
    "    def __init__(self,b):\n",
    "        self.balance=b\n",
    "    \n",
    "    def deposit(self, d):\n",
    "        self.balance=self.balance+d\n",
    "        print(\"your new balance is :\", self.balance)\n",
    "    \n",
    "    def withdraw(self,w):\n",
    "        if w <= self.balance:\n",
    "            self.balance=self.balance-w\n",
    "            print(\"your new balance is \", self.balance)\n",
    "        else:\n",
    "            print(\"your are broke  you have left\" , self.balance)"
   ]
  },
  {
   "cell_type": "code",
   "execution_count": 15,
   "id": "92d9e7de",
   "metadata": {},
   "outputs": [],
   "source": [
    "b=bank(1000)"
   ]
  },
  {
   "cell_type": "code",
   "execution_count": 16,
   "id": "7bf051b0",
   "metadata": {},
   "outputs": [
    {
     "name": "stdout",
     "output_type": "stream",
     "text": [
      "1000\n"
     ]
    }
   ],
   "source": [
    "print(b.balance)"
   ]
  },
  {
   "cell_type": "code",
   "execution_count": 17,
   "id": "b20e272a",
   "metadata": {},
   "outputs": [
    {
     "name": "stdout",
     "output_type": "stream",
     "text": [
      "your new balance is : 1500\n"
     ]
    }
   ],
   "source": [
    "b.deposit(500)"
   ]
  },
  {
   "cell_type": "code",
   "execution_count": 18,
   "id": "24488323",
   "metadata": {},
   "outputs": [
    {
     "name": "stdout",
     "output_type": "stream",
     "text": [
      "your new balance is  700\n"
     ]
    }
   ],
   "source": [
    "b.withdraw(800)"
   ]
  },
  {
   "cell_type": "code",
   "execution_count": 19,
   "id": "5fb676e6",
   "metadata": {},
   "outputs": [
    {
     "name": "stdout",
     "output_type": "stream",
     "text": [
      "your new balance is  500\n"
     ]
    }
   ],
   "source": [
    "b.withdraw(200)"
   ]
  },
  {
   "cell_type": "code",
   "execution_count": null,
   "id": "3264eb8a",
   "metadata": {},
   "outputs": [],
   "source": []
  }
 ],
 "metadata": {
  "kernelspec": {
   "display_name": "Python 3 (ipykernel)",
   "language": "python",
   "name": "python3"
  },
  "language_info": {
   "codemirror_mode": {
    "name": "ipython",
    "version": 3
   },
   "file_extension": ".py",
   "mimetype": "text/x-python",
   "name": "python",
   "nbconvert_exporter": "python",
   "pygments_lexer": "ipython3",
   "version": "3.9.12"
  }
 },
 "nbformat": 4,
 "nbformat_minor": 5
}
